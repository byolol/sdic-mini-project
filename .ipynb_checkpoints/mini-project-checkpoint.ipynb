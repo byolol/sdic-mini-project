{
 "cells": [
  {
   "cell_type": "markdown",
   "metadata": {},
   "source": [
    "### First version\n",
    "\n",
    "    - 3 robots\n",
    "    - all of them just find food\n",
    "    - this behaviour is defined by LOVE towards Trees/Food\n",
    "    - conditional if they are very close to food"
   ]
  },
  {
   "cell_type": "code",
   "execution_count": 1,
   "metadata": {},
   "outputs": [],
   "source": [
    "#import pypot\n",
    "#pypot.vrep.close_all_connections()"
   ]
  },
  {
   "cell_type": "code",
   "execution_count": 2,
   "metadata": {},
   "outputs": [],
   "source": [
    "from simulator_interface import open_session, close_session\n",
    "simulator, epuck1, epuck2, epuck3 = open_session(n_epucks=3)\n",
    "\n",
    "N_TREES = 11"
   ]
  },
  {
   "cell_type": "code",
   "execution_count": 3,
   "metadata": {},
   "outputs": [],
   "source": [
    "def fear(robot):\n",
    "    left, right = robot.prox_activations(tracked_objects=[\"ePuck\"])\n",
    "    left_wheel = left\n",
    "    right_wheel = right\n",
    "    return left_wheel, right_wheel\n",
    "\n",
    "def aggression(robot):\n",
    "    left, right = robot.prox_activations(tracked_objects=[\"ePuck\"])\n",
    "    left_wheel = right\n",
    "    right_wheel = left\n",
    "    return left_wheel, right_wheel\n",
    "\n",
    "def love_cuddly(robot):\n",
    "    left, right = robot.prox_activations(tracked_objects=[\"ePuck\"])\n",
    "    left_wheel = 1 - left\n",
    "    right_wheel = 1 - right   \n",
    "    return left_wheel, right_wheel\n",
    "\n",
    "def love_shy(robot):\n",
    "    left, right = robot.prox_activations(tracked_objects=[\"ePuck\"])\n",
    "    left_wheel = 1 - right\n",
    "    right_wheel = 1 - left   \n",
    "    return left_wheel, right_wheel"
   ]
  },
  {
   "cell_type": "code",
   "execution_count": 4,
   "metadata": {},
   "outputs": [],
   "source": [
    "def looking_for_food(robot):\n",
    "    # love shy\n",
    "    left, right = robot.prox_activations(tracked_objects=robot.to_find)\n",
    "    left_wheel = 1 - right\n",
    "    right_wheel = 1 - left    \n",
    "    return left_wheel, right_wheel, 1\n",
    "\n",
    "def dodge_obstacles(robot):\n",
    "    left, right = robot.prox_activations(tracked_objects=[\"20cmHighWall100cm\",\n",
    "                                                          \"20cmHighPillar10cm\",\n",
    "                                                          \"ePuck\"] + robot.found)\n",
    "    left_wheel = left\n",
    "    right_wheel = right\n",
    "    return left_wheel, right_wheel, 0.5\n",
    "\n",
    "def go_back(robot):\n",
    "    # aggression\n",
    "    left, right = robot.prox_activations(tracked_objects=robot.found)\n",
    "    left_wheel = right\n",
    "    right_wheel = left    \n",
    "    return -left_wheel, -right_wheel, 1\n",
    "\n",
    "def log_position(robot):\n",
    "    robot.add_log(\"position\", robot.position())\n",
    "\n",
    "def check_if_tree_is_food(robot):\n",
    "    dists, objs = robot.proximeters(mode=\"obj\")\n",
    "    if all(dists < 100) and all(['Tree' in o for o in objs]) and objs[0] == objs[1]:\n",
    "        #simulator.remove_object(objs[0])\n",
    "        if objs[0] in robot.to_find:\n",
    "            robot.to_find.remove(objs[0])\n",
    "            robot.found.append(objs[0])"
   ]
  },
  {
   "cell_type": "code",
   "execution_count": 5,
   "metadata": {},
   "outputs": [],
   "source": [
    "initial_objects = [f\"Tree#{i}\" for i in range(N_TREES)]\n",
    "initial_objects.append(\"Food\")\n",
    "for e in simulator.robots:\n",
    "    e.to_find = initial_objects\n",
    "    e.found = []"
   ]
  },
  {
   "cell_type": "code",
   "execution_count": 6,
   "metadata": {},
   "outputs": [
    {
     "name": "stdout",
     "output_type": "stream",
     "text": [
      "Behavior looking_for_food started\n",
      "Behavior dodge_obstacles started\n",
      "Routine check_if_tree_is_food started\n",
      "Routine log_position started\n",
      "Behavior looking_for_food started\n",
      "Behavior dodge_obstacles started\n",
      "Routine check_if_tree_is_food started\n",
      "Routine log_position started\n",
      "Behavior looking_for_food started\n",
      "Behavior dodge_obstacles started\n",
      "Routine check_if_tree_is_food started\n",
      "Routine log_position started\n"
     ]
    }
   ],
   "source": [
    "for e in simulator.robots:\n",
    "    e.detach_all_behaviors()\n",
    "    e.attach_behavior(looking_for_food, freq=10)\n",
    "    e.attach_behavior(dodge_obstacles, freq=10)\n",
    "    e.start_all_behaviors()\n",
    "    \n",
    "    e.attach_routine(check_if_tree_is_food, freq=5)\n",
    "    e.attach_routine(log_position, freq=5)\n",
    "    e.start_all_routines()"
   ]
  },
  {
   "cell_type": "code",
   "execution_count": 7,
   "metadata": {},
   "outputs": [],
   "source": [
    "dists, objs = epuck1.proximeters(mode=\"obj\", tracked_objects=epuck1.to_find)"
   ]
  },
  {
   "cell_type": "code",
   "execution_count": 8,
   "metadata": {},
   "outputs": [
    {
     "data": {
      "text/plain": [
       "array([2000., 2000.])"
      ]
     },
     "execution_count": 8,
     "metadata": {},
     "output_type": "execute_result"
    }
   ],
   "source": [
    "dists"
   ]
  },
  {
   "cell_type": "code",
   "execution_count": 9,
   "metadata": {},
   "outputs": [
    {
     "data": {
      "text/plain": [
       "array(['None', 'None'], dtype='<U4')"
      ]
     },
     "execution_count": 9,
     "metadata": {},
     "output_type": "execute_result"
    }
   ],
   "source": [
    "objs"
   ]
  },
  {
   "cell_type": "code",
   "execution_count": null,
   "metadata": {},
   "outputs": [],
   "source": []
  },
  {
   "cell_type": "code",
   "execution_count": 10,
   "metadata": {},
   "outputs": [],
   "source": [
    "import matplotlib.pyplot as plt\n",
    "import numpy as np"
   ]
  },
  {
   "cell_type": "code",
   "execution_count": 22,
   "metadata": {},
   "outputs": [],
   "source": [
    "paths = [np.array(e.get_log('position')) for e in simulator.robots]"
   ]
  },
  {
   "cell_type": "code",
   "execution_count": 23,
   "metadata": {},
   "outputs": [
    {
     "data": {
      "image/png": "[encoded data removed]",
      "text/plain": [
       "<Figure size 432x288 with 1 Axes>"
      ]
     },
     "metadata": {
      "needs_background": "light"
     },
     "output_type": "display_data"
    }
   ],
   "source": [
    "for path in paths:\n",
    "    plt.plot(path[:, 0], path[:, 1])"
   ]
  },
  {
   "cell_type": "code",
   "execution_count": 13,
   "metadata": {},
   "outputs": [
    {
     "data": {
      "text/plain": [
       "[array([[0.17751172, 0.11311463, 0.01916877],\n",
       "        [0.17445888, 0.10697389, 0.01917119]]),\n",
       " array([[-0.63068861, -0.07526391,  0.01916994],\n",
       "        [-0.64448965, -0.07615769,  0.01916375]]),\n",
       " array([[-0.38889712,  1.07515788,  0.01916735],\n",
       "        [-0.38563827,  1.09263825,  0.01916795]])]"
      ]
     },
     "execution_count": 13,
     "metadata": {},
     "output_type": "execute_result"
    }
   ],
   "source": [
    "paths"
   ]
  },
  {
   "cell_type": "code",
   "execution_count": 14,
   "metadata": {},
   "outputs": [
    {
     "name": "stdout",
     "output_type": "stream",
     "text": [
      "[]\n",
      "[]\n",
      "[]\n"
     ]
    }
   ],
   "source": [
    "for e in simulator.robots:\n",
    "    print(e.found)"
   ]
  },
  {
   "cell_type": "code",
   "execution_count": null,
   "metadata": {},
   "outputs": [],
   "source": []
  },
  {
   "cell_type": "code",
   "execution_count": 15,
   "metadata": {},
   "outputs": [
    {
     "data": {
      "text/plain": [
       "array(['None', 'None'], dtype='<U4')"
      ]
     },
     "execution_count": 15,
     "metadata": {},
     "output_type": "execute_result"
    }
   ],
   "source": [
    "objs"
   ]
  },
  {
   "cell_type": "code",
   "execution_count": 16,
   "metadata": {},
   "outputs": [],
   "source": [
    "#close_session(simulator)"
   ]
  },
  {
   "cell_type": "code",
   "execution_count": 17,
   "metadata": {},
   "outputs": [
    {
     "data": {
      "text/plain": [
       "True"
      ]
     },
     "execution_count": 17,
     "metadata": {},
     "output_type": "execute_result"
    }
   ],
   "source": [
    "all(dists < 10e6)"
   ]
  },
  {
   "cell_type": "code",
   "execution_count": 18,
   "metadata": {},
   "outputs": [
    {
     "data": {
      "text/plain": [
       "['__class__',\n",
       " '__delattr__',\n",
       " '__dict__',\n",
       " '__dir__',\n",
       " '__doc__',\n",
       " '__eq__',\n",
       " '__format__',\n",
       " '__ge__',\n",
       " '__getattribute__',\n",
       " '__gt__',\n",
       " '__hash__',\n",
       " '__init__',\n",
       " '__init_subclass__',\n",
       " '__le__',\n",
       " '__lt__',\n",
       " '__module__',\n",
       " '__ne__',\n",
       " '__new__',\n",
       " '__reduce__',\n",
       " '__reduce_ex__',\n",
       " '__repr__',\n",
       " '__setattr__',\n",
       " '__sizeof__',\n",
       " '__str__',\n",
       " '__subclasshook__',\n",
       " '__weakref__',\n",
       " '_condition',\n",
       " '_vrep_epuck_suffix',\n",
       " 'add_log',\n",
       " 'add_sphere',\n",
       " 'attach_routine',\n",
       " 'check_routines',\n",
       " 'close',\n",
       " 'detach_all_routines',\n",
       " 'detach_routine',\n",
       " 'eatable_objects',\n",
       " 'emit',\n",
       " 'epuck_from_object_name',\n",
       " 'get_epuck',\n",
       " 'get_epuck_list',\n",
       " 'get_log',\n",
       " 'get_object_position',\n",
       " 'io',\n",
       " 'logger',\n",
       " 'n_robots',\n",
       " 'remove_object',\n",
       " 'robots',\n",
       " 'routine_manager',\n",
       " 'seconds_to_run',\n",
       " 'set_object_position',\n",
       " 'start_all_routines',\n",
       " 'start_routine',\n",
       " 'start_sphere_apparition',\n",
       " 'stop_all_routines',\n",
       " 'stop_routine',\n",
       " 'stop_sphere_apparition',\n",
       " 'subscribe',\n",
       " 'subscribers',\n",
       " 'suffix_to_epuck',\n",
       " 'unsubscribe',\n",
       " 'vrep_mode',\n",
       " 'wait']"
      ]
     },
     "execution_count": 18,
     "metadata": {},
     "output_type": "execute_result"
    }
   ],
   "source": [
    "dir(simulator)"
   ]
  },
  {
   "cell_type": "code",
   "execution_count": 19,
   "metadata": {},
   "outputs": [
    {
     "data": {
      "text/plain": [
       "array([-0.20059721,  1.46432924,  0.36466795])"
      ]
     },
     "execution_count": 19,
     "metadata": {},
     "output_type": "execute_result"
    }
   ],
   "source": [
    "simulator.get_object_position('Tree#0')"
   ]
  },
  {
   "cell_type": "code",
   "execution_count": 20,
   "metadata": {},
   "outputs": [
    {
     "data": {
      "text/plain": [
       "['__class__',\n",
       " '__delattr__',\n",
       " '__dict__',\n",
       " '__dir__',\n",
       " '__doc__',\n",
       " '__eq__',\n",
       " '__format__',\n",
       " '__ge__',\n",
       " '__getattribute__',\n",
       " '__gt__',\n",
       " '__hash__',\n",
       " '__init__',\n",
       " '__init_subclass__',\n",
       " '__le__',\n",
       " '__lt__',\n",
       " '__module__',\n",
       " '__ne__',\n",
       " '__new__',\n",
       " '__reduce__',\n",
       " '__reduce_ex__',\n",
       " '__repr__',\n",
       " '__setattr__',\n",
       " '__sizeof__',\n",
       " '__str__',\n",
       " '__subclasshook__',\n",
       " '__weakref__',\n",
       " '_all_prox_handles',\n",
       " '_attach',\n",
       " '_behaviors',\n",
       " '_body',\n",
       " '_camera',\n",
       " '_check',\n",
       " '_conditions',\n",
       " '_detach',\n",
       " '_detach_all',\n",
       " '_fwd_rot_2_lr',\n",
       " '_fwd_spd',\n",
       " '_has_eaten',\n",
       " '_left_joint',\n",
       " '_left_spd',\n",
       " '_light_sensor',\n",
       " '_lr_2_fwd_rot',\n",
       " '_prox_aliases',\n",
       " '_prox_handles',\n",
       " '_registered_objects',\n",
       " '_right_joint',\n",
       " '_right_spd',\n",
       " '_rot_spd',\n",
       " '_rot_speed',\n",
       " '_routines',\n",
       " '_sensations',\n",
       " '_start',\n",
       " '_start_all',\n",
       " '_stop',\n",
       " '_stop_all',\n",
       " '_wrapped_handle_notification',\n",
       " 'add_log',\n",
       " 'attach_behavior',\n",
       " 'attach_routine',\n",
       " 'attach_sensation',\n",
       " 'base_lenght',\n",
       " 'behavior_mixer',\n",
       " 'camera_image',\n",
       " 'camera_resolution',\n",
       " 'catch_sphere_times',\n",
       " 'check_behaviors',\n",
       " 'check_routines',\n",
       " 'clear_all_logs',\n",
       " 'close',\n",
       " 'condition',\n",
       " 'detach_all_behaviors',\n",
       " 'detach_all_routines',\n",
       " 'detach_behavior',\n",
       " 'detach_routine',\n",
       " 'detect_object',\n",
       " 'dir_prox',\n",
       " 'display_ray',\n",
       " 'floor_sensor',\n",
       " 'found',\n",
       " 'freeze',\n",
       " 'freq',\n",
       " 'fwd_spd',\n",
       " 'get_log',\n",
       " 'handle_notification',\n",
       " 'has_eaten',\n",
       " 'hide_ray',\n",
       " 'io',\n",
       " 'is_min_distance',\n",
       " 'left_spd',\n",
       " 'left_wheel',\n",
       " 'light_sensor_image',\n",
       " 'light_sensor_resolution',\n",
       " 'logger',\n",
       " 'max_speed',\n",
       " 'min_distance',\n",
       " 'min_distance_to_object',\n",
       " 'min_index',\n",
       " 'move',\n",
       " 'no_detection_value',\n",
       " 'notifications',\n",
       " 'poll_notification',\n",
       " 'position',\n",
       " 'prox_activations',\n",
       " 'proximeters',\n",
       " 'register_all_scene_objects',\n",
       " 'register_object',\n",
       " 'right_spd',\n",
       " 'right_wheel',\n",
       " 'robot_id',\n",
       " 'rot_spd',\n",
       " 'sensed_epuck_attributes',\n",
       " 'simulator',\n",
       " 'start_all_behaviors',\n",
       " 'start_all_routines',\n",
       " 'start_behavior',\n",
       " 'start_routine',\n",
       " 'stop',\n",
       " 'stop_all_behaviors',\n",
       " 'stop_all_routines',\n",
       " 'stop_behavior',\n",
       " 'stop_routine',\n",
       " 'suffix',\n",
       " 'to_find',\n",
       " 'unfreeze',\n",
       " 'used_proximeters',\n",
       " 'wait',\n",
       " 'wheel_diameter']"
      ]
     },
     "execution_count": 20,
     "metadata": {},
     "output_type": "execute_result"
    }
   ],
   "source": [
    "dir(epuck1)"
   ]
  },
  {
   "cell_type": "code",
   "execution_count": 21,
   "metadata": {},
   "outputs": [
    {
     "data": {
      "text/plain": [
       "[0.1662522256374359, 0.082895427942276, 0.01916869729757309]"
      ]
     },
     "execution_count": 21,
     "metadata": {},
     "output_type": "execute_result"
    }
   ],
   "source": [
    "epuck1.position()"
   ]
  }
 ],
 "metadata": {
  "kernelspec": {
   "display_name": "Python 3",
   "language": "python",
   "name": "python3"
  },
  "language_info": {
   "codemirror_mode": {
    "name": "ipython",
    "version": 3
   },
   "file_extension": ".py",
   "mimetype": "text/x-python",
   "name": "python",
   "nbconvert_exporter": "python",
   "pygments_lexer": "ipython3",
   "version": "3.7.3"
  }
 },
 "nbformat": 4,
 "nbformat_minor": 4
}
