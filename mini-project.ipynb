{
 "cells": [
  {
   "cell_type": "markdown",
   "metadata": {},
   "source": [
    "### First version\n",
    "\n",
    "    - 3 robots\n",
    "    - all of them just find food\n",
    "    - this behaviour is defined by LOVE towards Trees/Food\n",
    "    - conditional if they are very close to food"
   ]
  },
  {
   "cell_type": "code",
   "execution_count": null,
   "metadata": {},
   "outputs": [],
   "source": [
    "#import pypot\n",
    "#pypot.vrep.close_all_connections()\n",
    "#close_session(simulator)"
   ]
  },
  {
   "cell_type": "code",
   "execution_count": 1,
   "metadata": {},
   "outputs": [],
   "source": [
    "from simulator_interface import open_session, close_session\n",
    "import numpy as np\n",
    "\n",
    "simulator, epuck1, epuck2, epuck3 = open_session(n_epucks=3)\n",
    "\n",
    "N_TREES = 8\n",
    "trees = [f\"Tree#{i}\" for i in range(N_TREES)]"
   ]
  },
  {
   "cell_type": "code",
   "execution_count": 11,
   "metadata": {},
   "outputs": [
    {
     "data": {
      "text/plain": [
       "<pyvrep_epuck.vrep.simulator.Simulator at 0x109c9f6a0>"
      ]
     },
     "execution_count": 11,
     "metadata": {},
     "output_type": "execute_result"
    },
    {
     "name": "stdout",
     "output_type": "stream",
     "text": [
      "Food Found\n",
      "Food Found\n",
      "Food Found\n",
      "Food Found\n",
      "Food Found\n",
      "Food Found\n",
      "Food Found\n",
      "Food Found\n",
      "Food Found\n"
     ]
    }
   ],
   "source": [
    "simulator"
   ]
  },
  {
   "cell_type": "code",
   "execution_count": 2,
   "metadata": {},
   "outputs": [],
   "source": [
    "def fear(robot):\n",
    "    left, right = robot.prox_activations()\n",
    "    left_wheel = left\n",
    "    right_wheel = right\n",
    "    return left_wheel, right_wheel\n",
    "\n",
    "def aggression(robot):\n",
    "    left, right = robot.prox_activations(tracked_objects=[\"ePuck\"])\n",
    "    left_wheel = right\n",
    "    right_wheel = left\n",
    "    return left_wheel, right_wheel\n",
    "\n",
    "def love_cuddly(robot):\n",
    "    left, right = robot.prox_activations(tracked_objects=[\"ePuck\"])\n",
    "    left_wheel = 1 - left\n",
    "    right_wheel = 1 - right   \n",
    "    return left_wheel, right_wheel\n",
    "\n",
    "def love_shy(robot):\n",
    "    left, right = robot.prox_activations(tracked_objects=[\"ePuck\"])\n",
    "    left_wheel = 1 - right\n",
    "    right_wheel = 1 - left   \n",
    "    return left_wheel, right_wheel"
   ]
  },
  {
   "cell_type": "code",
   "execution_count": 3,
   "metadata": {},
   "outputs": [],
   "source": [
    "def looking_for_food(robot):\n",
    "    # agg\n",
    "    left, right = robot.prox_activations(tracked_objects=['indoorPlant'])\n",
    "    left_wheel = right\n",
    "    right_wheel = left\n",
    "    return left_wheel, right_wheel, 2\n",
    "\n",
    "def dodge_obstacles(robot):\n",
    "    left, right = robot.prox_activations(tracked_objects=[\"20cmHighWall100cm\",\n",
    "                                                          \"20cmHighPillar10cm\",\n",
    "                                                          \"Tree\", \"ePuck\"])\n",
    "    left_wheel = left\n",
    "    right_wheel = right\n",
    "    return left_wheel, right_wheel, 1\n",
    "\n",
    "def smell_trees(robot):\n",
    "    left, right = robot.prox_activations(tracked_objects= trees)\n",
    "    \n",
    "    left_wheel = 1 - right\n",
    "    right_wheel = 1 - left   \n",
    "    return left_wheel, right_wheel, 0.5\n",
    "\n",
    "def go_back(robot):\n",
    "    # aggression\n",
    "    left, right = robot.prox_activations(tracked_objects=[\"20cmHighWall100cm\"])\n",
    "    left_wheel = right\n",
    "    right_wheel = left    \n",
    "    return -left_wheel, -right_wheel, 0.5\n",
    "\n",
    "def log_position(robot):\n",
    "    robot.add_log(\"position\", robot.position())\n",
    "\n",
    "def check_if_tree_is_food(robot):\n",
    "    left, right = robot.prox_activations(tracked_objects=['indoor'])\n",
    "    dists = np.array([left, right])\n",
    "    _, objs = robot.proximeters(mode=\"obj\", tracked_objects=['indoor'])\n",
    "    \n",
    "    if all(dists > 0.9) and any(['indoorPlant' in o for o in objs]):\n",
    "        #simulator.remove_object(objs[0])\n",
    "        print('Food Found')\n",
    "        robot.found = True\n",
    "        for e in simulator.robots:\n",
    "            e.detach_all_behaviors()\n",
    "            e.detach_all_routines()\n",
    "            \n",
    "            ## insert here new behaviour after finding food\n",
    "            \n",
    "            e.start_all_behaviors()\n"
   ]
  },
  {
   "cell_type": "code",
   "execution_count": 4,
   "metadata": {},
   "outputs": [],
   "source": [
    "initial_objects = []\n",
    "initial_objects.append(\"indoorPlant\")\n",
    "for e in simulator.robots:\n",
    "    e.to_find = initial_objects\n",
    "    e.found = False"
   ]
  },
  {
   "cell_type": "code",
   "execution_count": 5,
   "metadata": {},
   "outputs": [
    {
     "name": "stdout",
     "output_type": "stream",
     "text": [
      "Behavior looking_for_food started\n",
      "Behavior dodge_obstacles started\n",
      "Routine check_if_tree_is_food started\n",
      "Routine log_position started\n",
      "Behavior looking_for_food started\n",
      "Behavior dodge_obstacles started\n",
      "Routine check_if_tree_is_food started\n",
      "Routine log_position started\n",
      "Behavior looking_for_food started\n",
      "Behavior dodge_obstacles started\n",
      "Routine check_if_tree_is_food started\n",
      "Routine log_position started\n"
     ]
    }
   ],
   "source": [
    "for e in simulator.robots:\n",
    "    e.detach_all_behaviors()\n",
    "    e.attach_behavior(looking_for_food, freq=10)\n",
    "    e.attach_behavior(dodge_obstacles, freq=10)\n",
    "    #e.attach_behavior(smell_trees, freq=10)\n",
    "    #e.attach_behavior(fear, freq=10)\n",
    "    e.start_all_behaviors()\n",
    "    \n",
    "    e.attach_routine(check_if_tree_is_food, freq=5)\n",
    "    e.attach_routine(log_position, freq=5)\n",
    "    e.start_all_routines()"
   ]
  },
  {
   "cell_type": "code",
   "execution_count": 13,
   "metadata": {},
   "outputs": [
    {
     "name": "stdout",
     "output_type": "stream",
     "text": [
      "Food Found\n"
     ]
    },
    {
     "data": {
      "text/plain": [
       "['__class__',\n",
       " '__delattr__',\n",
       " '__dict__',\n",
       " '__dir__',\n",
       " '__doc__',\n",
       " '__eq__',\n",
       " '__format__',\n",
       " '__ge__',\n",
       " '__getattribute__',\n",
       " '__gt__',\n",
       " '__hash__',\n",
       " '__init__',\n",
       " '__init_subclass__',\n",
       " '__le__',\n",
       " '__lt__',\n",
       " '__module__',\n",
       " '__ne__',\n",
       " '__new__',\n",
       " '__reduce__',\n",
       " '__reduce_ex__',\n",
       " '__repr__',\n",
       " '__setattr__',\n",
       " '__sizeof__',\n",
       " '__str__',\n",
       " '__subclasshook__',\n",
       " '__weakref__',\n",
       " '_all_prox_handles',\n",
       " '_attach',\n",
       " '_behaviors',\n",
       " '_body',\n",
       " '_camera',\n",
       " '_check',\n",
       " '_conditions',\n",
       " '_detach',\n",
       " '_detach_all',\n",
       " '_fwd_rot_2_lr',\n",
       " '_fwd_spd',\n",
       " '_has_eaten',\n",
       " '_left_joint',\n",
       " '_left_spd',\n",
       " '_light_sensor',\n",
       " '_lr_2_fwd_rot',\n",
       " '_prox_aliases',\n",
       " '_prox_handles',\n",
       " '_registered_objects',\n",
       " '_right_joint',\n",
       " '_right_spd',\n",
       " '_rot_spd',\n",
       " '_rot_speed',\n",
       " '_routines',\n",
       " '_sensations',\n",
       " '_start',\n",
       " '_start_all',\n",
       " '_stop',\n",
       " '_stop_all',\n",
       " '_wrapped_handle_notification',\n",
       " 'add_log',\n",
       " 'attach_behavior',\n",
       " 'attach_routine',\n",
       " 'attach_sensation',\n",
       " 'base_lenght',\n",
       " 'behavior_mixer',\n",
       " 'camera_image',\n",
       " 'camera_resolution',\n",
       " 'catch_sphere_times',\n",
       " 'check_behaviors',\n",
       " 'check_routines',\n",
       " 'clear_all_logs',\n",
       " 'close',\n",
       " 'condition',\n",
       " 'detach_all_behaviors',\n",
       " 'detach_all_routines',\n",
       " 'detach_behavior',\n",
       " 'detach_routine',\n",
       " 'detect_object',\n",
       " 'dir_prox',\n",
       " 'display_ray',\n",
       " 'floor_sensor',\n",
       " 'found',\n",
       " 'freeze',\n",
       " 'freq',\n",
       " 'fwd_spd',\n",
       " 'get_log',\n",
       " 'handle_notification',\n",
       " 'has_eaten',\n",
       " 'hide_ray',\n",
       " 'io',\n",
       " 'is_min_distance',\n",
       " 'left_spd',\n",
       " 'left_wheel',\n",
       " 'light_sensor_image',\n",
       " 'light_sensor_resolution',\n",
       " 'logger',\n",
       " 'max_speed',\n",
       " 'min_distance',\n",
       " 'min_distance_to_object',\n",
       " 'min_index',\n",
       " 'move',\n",
       " 'no_detection_value',\n",
       " 'notifications',\n",
       " 'poll_notification',\n",
       " 'position',\n",
       " 'prox_activations',\n",
       " 'proximeters',\n",
       " 'register_all_scene_objects',\n",
       " 'register_object',\n",
       " 'right_spd',\n",
       " 'right_wheel',\n",
       " 'robot_id',\n",
       " 'rot_spd',\n",
       " 'sensed_epuck_attributes',\n",
       " 'simulator',\n",
       " 'start_all_behaviors',\n",
       " 'start_all_routines',\n",
       " 'start_behavior',\n",
       " 'start_routine',\n",
       " 'stop',\n",
       " 'stop_all_behaviors',\n",
       " 'stop_all_routines',\n",
       " 'stop_behavior',\n",
       " 'stop_routine',\n",
       " 'suffix',\n",
       " 'to_find',\n",
       " 'unfreeze',\n",
       " 'used_proximeters',\n",
       " 'wait',\n",
       " 'wheel_diameter']"
      ]
     },
     "execution_count": 13,
     "metadata": {},
     "output_type": "execute_result"
    },
    {
     "name": "stdout",
     "output_type": "stream",
     "text": [
      "Food Found\n",
      "Food Found\n",
      "Food Found\n",
      "Food Found\n",
      "Food Found\n",
      "Food Found\n",
      "Food Found\n",
      "Food Found\n",
      "Food Found\n",
      "Food Found\n",
      "Food Found\n",
      "Food Found\n",
      "Food Found\n",
      "Food Found\n",
      "Food Found\n",
      "Food Found\n",
      "Food Found\n",
      "Food Found\n",
      "Food Found\n",
      "Food Found\n",
      "Food Found\n",
      "Food Found\n",
      "Food Found\n",
      "Food Found\n",
      "Food Found\n",
      "Food Found\n",
      "Food Found\n",
      "Food Found\n",
      "Food Found\n",
      "Food Found\n",
      "Food Found\n",
      "Food Found\n",
      "Food Found\n",
      "Food Found\n",
      "Food Found\n",
      "Food Found\n",
      "Food Found\n",
      "Food Found\n",
      "Food Found\n",
      "Food Found\n",
      "Food Found\n",
      "Food Found\n",
      "Food Found\n",
      "Food Found\n",
      "Food Found\n",
      "Food Found\n",
      "Food Found\n",
      "Food Found\n",
      "Food Found\n",
      "Food Found\n"
     ]
    }
   ],
   "source": [
    "dir(e)"
   ]
  },
  {
   "cell_type": "code",
   "execution_count": 6,
   "metadata": {},
   "outputs": [
    {
     "name": "stdout",
     "output_type": "stream",
     "text": [
      "Behavior \"looking_for_food\" is attached and STARTED\n",
      "Behavior \"dodge_obstacles\" is attached and STARTED\n",
      "Behavior \"looking_for_food\" is attached and STARTED\n",
      "Behavior \"dodge_obstacles\" is attached and STARTED\n",
      "Behavior \"looking_for_food\" is attached and STARTED\n",
      "Behavior \"dodge_obstacles\" is attached and STARTED\n"
     ]
    }
   ],
   "source": [
    "for e in simulator.robots:\n",
    "    e.check_behaviors()"
   ]
  },
  {
   "cell_type": "code",
   "execution_count": null,
   "metadata": {},
   "outputs": [],
   "source": [
    "epuck2.check_behaviors()"
   ]
  },
  {
   "cell_type": "code",
   "execution_count": null,
   "metadata": {},
   "outputs": [],
   "source": []
  },
  {
   "cell_type": "code",
   "execution_count": null,
   "metadata": {},
   "outputs": [],
   "source": [
    "dists, objs = epuck3.proximeters(mode='obj')"
   ]
  },
  {
   "cell_type": "code",
   "execution_count": null,
   "metadata": {},
   "outputs": [],
   "source": [
    "dists"
   ]
  },
  {
   "cell_type": "code",
   "execution_count": null,
   "metadata": {},
   "outputs": [],
   "source": [
    "objs"
   ]
  },
  {
   "cell_type": "code",
   "execution_count": null,
   "metadata": {},
   "outputs": [],
   "source": [
    "simulator.get_object_position('indoorPlant')"
   ]
  },
  {
   "cell_type": "code",
   "execution_count": null,
   "metadata": {},
   "outputs": [],
   "source": [
    "from time import sleep"
   ]
  },
  {
   "cell_type": "code",
   "execution_count": null,
   "metadata": {},
   "outputs": [],
   "source": [
    "sleep(0.1)"
   ]
  },
  {
   "cell_type": "code",
   "execution_count": null,
   "metadata": {},
   "outputs": [],
   "source": [
    "for e in simulator.robots:\n",
    "    print(e.found)"
   ]
  },
  {
   "cell_type": "code",
   "execution_count": 10,
   "metadata": {},
   "outputs": [
    {
     "name": "stdout",
     "output_type": "stream",
     "text": [
      "[0. 0.]\n",
      "True\n",
      "['None' 'None']\n",
      "False\n",
      "--------------------------------------------------\n",
      "[0.81174467 0.80436205]\n",
      "False\n",
      "['indoorPlant' 'indoorPlant']\n",
      "True\n",
      "--------------------------------------------------\n",
      "Food Found\n",
      "Food Found\n",
      "Food Found\n",
      "Food Found\n",
      "Food Found\n",
      "Food Found\n",
      "Food Found\n",
      "Food Found\n",
      "Food Found\n",
      "Food Found\n",
      "Food Found\n",
      "Food Found\n",
      "Food Found\n",
      "Food Found\n",
      "Food Found\n",
      "Food Found\n",
      "Food Found\n",
      "Food Found\n",
      "Food Found\n",
      "Food Found\n",
      "Food Found\n",
      "Food Found\n",
      "Food Found\n",
      "Food Found\n",
      "Food Found\n",
      "Food Found\n",
      "Food Found\n",
      "Food Found\n",
      "Food Found\n",
      "Food Found\n",
      "Food Found\n",
      "Food Found\n",
      "Food Found\n",
      "Food Found\n",
      "Food Found\n",
      "Food Found\n",
      "Food Found\n",
      "Food Found\n",
      "Food Found\n",
      "Food Found\n",
      "Food Found\n",
      "Food Found\n",
      "Food Found\n",
      "Food Found\n",
      "Food Found\n",
      "Food Found\n",
      "Food Found\n",
      "Food Found\n",
      "Food Found\n",
      "Food Found\n",
      "Food Found\n",
      "Food Found\n",
      "Food Found\n",
      "Food Found\n",
      "Food Found\n"
     ]
    },
    {
     "ename": "KeyboardInterrupt",
     "evalue": "",
     "output_type": "error",
     "traceback": [
      "\u001b[0;31m---------------------------------------------------------------------------\u001b[0m",
      "\u001b[0;31mKeyboardInterrupt\u001b[0m                         Traceback (most recent call last)",
      "\u001b[0;32m<ipython-input-10-fc184b5a0fde>\u001b[0m in \u001b[0;36m<module>\u001b[0;34m\u001b[0m\n\u001b[1;32m      1\u001b[0m \u001b[0;32mfor\u001b[0m \u001b[0me\u001b[0m \u001b[0;32min\u001b[0m \u001b[0msimulator\u001b[0m\u001b[0;34m.\u001b[0m\u001b[0mrobots\u001b[0m\u001b[0;34m:\u001b[0m\u001b[0;34m\u001b[0m\u001b[0;34m\u001b[0m\u001b[0m\n\u001b[0;32m----> 2\u001b[0;31m     \u001b[0mleft\u001b[0m\u001b[0;34m,\u001b[0m \u001b[0mright\u001b[0m \u001b[0;34m=\u001b[0m \u001b[0me\u001b[0m\u001b[0;34m.\u001b[0m\u001b[0mprox_activations\u001b[0m\u001b[0;34m(\u001b[0m\u001b[0mtracked_objects\u001b[0m\u001b[0;34m=\u001b[0m\u001b[0;34m[\u001b[0m\u001b[0;34m'indoor'\u001b[0m\u001b[0;34m]\u001b[0m\u001b[0;34m)\u001b[0m\u001b[0;34m\u001b[0m\u001b[0;34m\u001b[0m\u001b[0m\n\u001b[0m\u001b[1;32m      3\u001b[0m     \u001b[0mdists\u001b[0m \u001b[0;34m=\u001b[0m \u001b[0mnp\u001b[0m\u001b[0;34m.\u001b[0m\u001b[0marray\u001b[0m\u001b[0;34m(\u001b[0m\u001b[0;34m[\u001b[0m\u001b[0mleft\u001b[0m\u001b[0;34m,\u001b[0m \u001b[0mright\u001b[0m\u001b[0;34m]\u001b[0m\u001b[0;34m)\u001b[0m\u001b[0;34m\u001b[0m\u001b[0;34m\u001b[0m\u001b[0m\n\u001b[1;32m      4\u001b[0m     \u001b[0m_\u001b[0m\u001b[0;34m,\u001b[0m \u001b[0mobjs\u001b[0m \u001b[0;34m=\u001b[0m \u001b[0me\u001b[0m\u001b[0;34m.\u001b[0m\u001b[0mproximeters\u001b[0m\u001b[0;34m(\u001b[0m\u001b[0mmode\u001b[0m\u001b[0;34m=\u001b[0m\u001b[0;34m\"obj\"\u001b[0m\u001b[0;34m,\u001b[0m \u001b[0mtracked_objects\u001b[0m\u001b[0;34m=\u001b[0m\u001b[0;34m[\u001b[0m\u001b[0;34m'indoor'\u001b[0m\u001b[0;34m]\u001b[0m\u001b[0;34m)\u001b[0m\u001b[0;34m\u001b[0m\u001b[0;34m\u001b[0m\u001b[0m\n\u001b[1;32m      5\u001b[0m     \u001b[0mprint\u001b[0m\u001b[0;34m(\u001b[0m\u001b[0mdists\u001b[0m\u001b[0;34m)\u001b[0m\u001b[0;34m\u001b[0m\u001b[0;34m\u001b[0m\u001b[0m\n",
      "\u001b[0;32m~/csim/2-term/sdic/robotics/pyvrep_epuck/robots/epuck.py\u001b[0m in \u001b[0;36mprox_activations\u001b[0;34m(self, tracked_objects, return_epucks)\u001b[0m\n\u001b[1;32m    246\u001b[0m             \u001b[0mprint\u001b[0m\u001b[0;34m(\u001b[0m\u001b[0;34m\"Warning: return_epuck argument is set but no ePuck is tracked\"\u001b[0m\u001b[0;34m)\u001b[0m\u001b[0;34m\u001b[0m\u001b[0;34m\u001b[0m\u001b[0m\n\u001b[1;32m    247\u001b[0m \u001b[0;34m\u001b[0m\u001b[0m\n\u001b[0;32m--> 248\u001b[0;31m         \u001b[0mdistances\u001b[0m\u001b[0;34m,\u001b[0m \u001b[0mnames\u001b[0m \u001b[0;34m=\u001b[0m \u001b[0mself\u001b[0m\u001b[0;34m.\u001b[0m\u001b[0mproximeters\u001b[0m\u001b[0;34m(\u001b[0m\u001b[0mtracked_objects\u001b[0m\u001b[0;34m=\u001b[0m\u001b[0mtracked_objects\u001b[0m\u001b[0;34m,\u001b[0m \u001b[0mmode\u001b[0m\u001b[0;34m=\u001b[0m\u001b[0;34m\"id\"\u001b[0m\u001b[0;34m)\u001b[0m\u001b[0;34m\u001b[0m\u001b[0;34m\u001b[0m\u001b[0m\n\u001b[0m\u001b[1;32m    249\u001b[0m         \u001b[0mactivations\u001b[0m \u001b[0;34m=\u001b[0m \u001b[0;34m(\u001b[0m\u001b[0mself\u001b[0m\u001b[0;34m.\u001b[0m\u001b[0mno_detection_value\u001b[0m \u001b[0;34m-\u001b[0m \u001b[0mdistances\u001b[0m\u001b[0;34m)\u001b[0m \u001b[0;34m/\u001b[0m \u001b[0mself\u001b[0m\u001b[0;34m.\u001b[0m\u001b[0mno_detection_value\u001b[0m\u001b[0;34m\u001b[0m\u001b[0;34m\u001b[0m\u001b[0m\n\u001b[1;32m    250\u001b[0m         \u001b[0;32mif\u001b[0m \u001b[0mreturn_epucks\u001b[0m\u001b[0;34m:\u001b[0m\u001b[0;34m\u001b[0m\u001b[0;34m\u001b[0m\u001b[0m\n",
      "\u001b[0;32m~/csim/2-term/sdic/robotics/pyvrep_epuck/robots/epuck.py\u001b[0m in \u001b[0;36mproximeters\u001b[0;34m(self, tracked_objects, mode)\u001b[0m\n\u001b[1;32m    214\u001b[0m         \u001b[0mdistances\u001b[0m \u001b[0;34m=\u001b[0m \u001b[0;34m[\u001b[0m\u001b[0;34m]\u001b[0m\u001b[0;34m\u001b[0m\u001b[0;34m\u001b[0m\u001b[0m\n\u001b[1;32m    215\u001b[0m         \u001b[0mobjects\u001b[0m \u001b[0;34m=\u001b[0m \u001b[0;34m[\u001b[0m\u001b[0;34m]\u001b[0m\u001b[0;34m\u001b[0m\u001b[0;34m\u001b[0m\u001b[0m\n\u001b[0;32m--> 216\u001b[0;31m         \u001b[0;32mwith\u001b[0m \u001b[0mself\u001b[0m\u001b[0;34m.\u001b[0m\u001b[0mio\u001b[0m\u001b[0;34m.\u001b[0m\u001b[0mpause_communication\u001b[0m\u001b[0;34m(\u001b[0m\u001b[0;34m)\u001b[0m\u001b[0;34m:\u001b[0m\u001b[0;34m\u001b[0m\u001b[0;34m\u001b[0m\u001b[0m\n\u001b[0m\u001b[1;32m    217\u001b[0m             \u001b[0;32mfor\u001b[0m \u001b[0mi\u001b[0m \u001b[0;32min\u001b[0m \u001b[0mself\u001b[0m\u001b[0;34m.\u001b[0m\u001b[0mused_proximeters\u001b[0m\u001b[0;34m:\u001b[0m\u001b[0;34m\u001b[0m\u001b[0;34m\u001b[0m\u001b[0m\n\u001b[1;32m    218\u001b[0m                 \u001b[0mdetectionState\u001b[0m\u001b[0;34m,\u001b[0m \u001b[0mdetectedPoint\u001b[0m\u001b[0;34m,\u001b[0m \u001b[0mdetectedObjectHandle\u001b[0m\u001b[0;34m,\u001b[0m \u001b[0mdetectedSurfaceNormalVector\u001b[0m \u001b[0;34m=\u001b[0m \u001b[0mself\u001b[0m\u001b[0;34m.\u001b[0m\u001b[0mio\u001b[0m\u001b[0;34m.\u001b[0m\u001b[0mcall_remote_api\u001b[0m\u001b[0;34m(\u001b[0m\u001b[0;34m\"simxReadProximitySensor\"\u001b[0m\u001b[0;34m,\u001b[0m \u001b[0mself\u001b[0m\u001b[0;34m.\u001b[0m\u001b[0m_all_prox_handles\u001b[0m\u001b[0;34m[\u001b[0m\u001b[0mi\u001b[0m\u001b[0;34m]\u001b[0m\u001b[0;34m,\u001b[0m \u001b[0mbuffer\u001b[0m\u001b[0;34m=\u001b[0m\u001b[0;32mTrue\u001b[0m\u001b[0;34m)\u001b[0m\u001b[0;34m\u001b[0m\u001b[0;34m\u001b[0m\u001b[0m\n",
      "\u001b[0;32m~/anaconda3/lib/python3.7/contextlib.py\u001b[0m in \u001b[0;36m__enter__\u001b[0;34m(self)\u001b[0m\n\u001b[1;32m    110\u001b[0m         \u001b[0;32mdel\u001b[0m \u001b[0mself\u001b[0m\u001b[0;34m.\u001b[0m\u001b[0margs\u001b[0m\u001b[0;34m,\u001b[0m \u001b[0mself\u001b[0m\u001b[0;34m.\u001b[0m\u001b[0mkwds\u001b[0m\u001b[0;34m,\u001b[0m \u001b[0mself\u001b[0m\u001b[0;34m.\u001b[0m\u001b[0mfunc\u001b[0m\u001b[0;34m\u001b[0m\u001b[0;34m\u001b[0m\u001b[0m\n\u001b[1;32m    111\u001b[0m         \u001b[0;32mtry\u001b[0m\u001b[0;34m:\u001b[0m\u001b[0;34m\u001b[0m\u001b[0;34m\u001b[0m\u001b[0m\n\u001b[0;32m--> 112\u001b[0;31m             \u001b[0;32mreturn\u001b[0m \u001b[0mnext\u001b[0m\u001b[0;34m(\u001b[0m\u001b[0mself\u001b[0m\u001b[0;34m.\u001b[0m\u001b[0mgen\u001b[0m\u001b[0;34m)\u001b[0m\u001b[0;34m\u001b[0m\u001b[0;34m\u001b[0m\u001b[0m\n\u001b[0m\u001b[1;32m    113\u001b[0m         \u001b[0;32mexcept\u001b[0m \u001b[0mStopIteration\u001b[0m\u001b[0;34m:\u001b[0m\u001b[0;34m\u001b[0m\u001b[0;34m\u001b[0m\u001b[0m\n\u001b[1;32m    114\u001b[0m             \u001b[0;32mraise\u001b[0m \u001b[0mRuntimeError\u001b[0m\u001b[0;34m(\u001b[0m\u001b[0;34m\"generator didn't yield\"\u001b[0m\u001b[0;34m)\u001b[0m \u001b[0;32mfrom\u001b[0m \u001b[0;32mNone\u001b[0m\u001b[0;34m\u001b[0m\u001b[0;34m\u001b[0m\u001b[0m\n",
      "\u001b[0;32m~/csim/2-term/sdic/robotics/pypot/pypot/vrep/io.py\u001b[0m in \u001b[0;36mpause_communication\u001b[0;34m(self)\u001b[0m\n\u001b[1;32m    112\u001b[0m     \u001b[0;34m@\u001b[0m\u001b[0mcontextmanager\u001b[0m\u001b[0;34m\u001b[0m\u001b[0;34m\u001b[0m\u001b[0m\n\u001b[1;32m    113\u001b[0m     \u001b[0;32mdef\u001b[0m \u001b[0mpause_communication\u001b[0m\u001b[0;34m(\u001b[0m\u001b[0mself\u001b[0m\u001b[0;34m)\u001b[0m\u001b[0;34m:\u001b[0m\u001b[0;34m\u001b[0m\u001b[0;34m\u001b[0m\u001b[0m\n\u001b[0;32m--> 114\u001b[0;31m         \u001b[0mself\u001b[0m\u001b[0;34m.\u001b[0m\u001b[0mcall_remote_api\u001b[0m\u001b[0;34m(\u001b[0m\u001b[0;34m\"simxPauseCommunication\"\u001b[0m\u001b[0;34m,\u001b[0m \u001b[0;32mTrue\u001b[0m\u001b[0;34m,\u001b[0m \u001b[0mno_opmode\u001b[0m\u001b[0;34m=\u001b[0m\u001b[0;32mTrue\u001b[0m\u001b[0;34m)\u001b[0m\u001b[0;34m\u001b[0m\u001b[0;34m\u001b[0m\u001b[0m\n\u001b[0m\u001b[1;32m    115\u001b[0m         \u001b[0;32myield\u001b[0m\u001b[0;34m\u001b[0m\u001b[0;34m\u001b[0m\u001b[0m\n\u001b[1;32m    116\u001b[0m         \u001b[0mself\u001b[0m\u001b[0;34m.\u001b[0m\u001b[0mcall_remote_api\u001b[0m\u001b[0;34m(\u001b[0m\u001b[0;34m\"simxPauseCommunication\"\u001b[0m\u001b[0;34m,\u001b[0m \u001b[0;32mFalse\u001b[0m\u001b[0;34m,\u001b[0m \u001b[0mno_opmode\u001b[0m\u001b[0;34m=\u001b[0m\u001b[0;32mTrue\u001b[0m\u001b[0;34m)\u001b[0m\u001b[0;34m\u001b[0m\u001b[0;34m\u001b[0m\u001b[0m\n",
      "\u001b[0;32m~/csim/2-term/sdic/robotics/pypot/pypot/vrep/io.py\u001b[0m in \u001b[0;36mcall_remote_api\u001b[0;34m(self, func_name, *args, **kwargs)\u001b[0m\n\u001b[1;32m    313\u001b[0m \u001b[0;34m\u001b[0m\u001b[0m\n\u001b[1;32m    314\u001b[0m         \u001b[0;32mfor\u001b[0m \u001b[0m_\u001b[0m \u001b[0;32min\u001b[0m \u001b[0mrange\u001b[0m\u001b[0;34m(\u001b[0m\u001b[0mVrepIO\u001b[0m\u001b[0;34m.\u001b[0m\u001b[0mMAX_ITER\u001b[0m\u001b[0;34m)\u001b[0m\u001b[0;34m:\u001b[0m\u001b[0;34m\u001b[0m\u001b[0;34m\u001b[0m\u001b[0m\n\u001b[0;32m--> 315\u001b[0;31m             \u001b[0;32mwith\u001b[0m \u001b[0mself\u001b[0m\u001b[0;34m.\u001b[0m\u001b[0m_lock\u001b[0m\u001b[0;34m:\u001b[0m\u001b[0;34m\u001b[0m\u001b[0;34m\u001b[0m\u001b[0m\n\u001b[0m\u001b[1;32m    316\u001b[0m                 \u001b[0mret\u001b[0m \u001b[0;34m=\u001b[0m \u001b[0mf\u001b[0m\u001b[0;34m(\u001b[0m\u001b[0mself\u001b[0m\u001b[0;34m.\u001b[0m\u001b[0mclient_id\u001b[0m\u001b[0;34m,\u001b[0m \u001b[0;34m*\u001b[0m\u001b[0margs\u001b[0m\u001b[0;34m,\u001b[0m \u001b[0;34m**\u001b[0m\u001b[0mkwargs\u001b[0m\u001b[0;34m)\u001b[0m\u001b[0;34m\u001b[0m\u001b[0;34m\u001b[0m\u001b[0m\n\u001b[1;32m    317\u001b[0m \u001b[0;34m\u001b[0m\u001b[0m\n",
      "\u001b[0;31mKeyboardInterrupt\u001b[0m: "
     ]
    }
   ],
   "source": [
    "for e in simulator.robots:\n",
    "    left, right = e.prox_activations(tracked_objects=['indoor'])\n",
    "    dists = np.array([left, right])\n",
    "    _, objs = e.proximeters(mode=\"obj\", tracked_objects=['indoor'])\n",
    "    print(dists)\n",
    "    print(all(dists < 0.5))\n",
    "    print(objs)\n",
    "    print(any(['indoorPlant' in o for o in objs]))\n",
    "    if all(dists < 0.5) and any(['indoorPlant' in o for o in objs]):\n",
    "        print(e.found)\n",
    "    print('-'*50)"
   ]
  },
  {
   "cell_type": "code",
   "execution_count": null,
   "metadata": {},
   "outputs": [],
   "source": [
    "simulator.robots"
   ]
  },
  {
   "cell_type": "code",
   "execution_count": null,
   "metadata": {},
   "outputs": [],
   "source": [
    "simulator.robots[-1] == epuck3"
   ]
  },
  {
   "cell_type": "code",
   "execution_count": null,
   "metadata": {},
   "outputs": [],
   "source": [
    "robot.to_find"
   ]
  },
  {
   "cell_type": "code",
   "execution_count": null,
   "metadata": {},
   "outputs": [],
   "source": [
    "?? robot.proximeters"
   ]
  },
  {
   "cell_type": "code",
   "execution_count": null,
   "metadata": {},
   "outputs": [],
   "source": [
    "for e in simulator.robots:\n",
    "    print(e)\n",
    "    print(e.to_find)\n",
    "    print(e.found)\n",
    "    print('-'*20)"
   ]
  },
  {
   "cell_type": "code",
   "execution_count": null,
   "metadata": {},
   "outputs": [],
   "source": []
  },
  {
   "cell_type": "code",
   "execution_count": null,
   "metadata": {},
   "outputs": [],
   "source": [
    "_, objs = epuck1.proximeters(mode=\"obj\")\n"
   ]
  },
  {
   "cell_type": "code",
   "execution_count": null,
   "metadata": {},
   "outputs": [],
   "source": [
    "_"
   ]
  },
  {
   "cell_type": "code",
   "execution_count": null,
   "metadata": {},
   "outputs": [],
   "source": [
    "import matplotlib.pyplot as plt\n",
    "import numpy as np"
   ]
  },
  {
   "cell_type": "code",
   "execution_count": null,
   "metadata": {},
   "outputs": [],
   "source": [
    "paths = [np.array(e.get_log('position')) for e in simulator.robots]\n",
    "\n",
    "plt.figure(figsize=(5, 5))\n",
    "plt.axis('equal')\n",
    "\n",
    "plt.xlim(-2.45, 2.45)\n",
    "plt.ylim(-2.45, 2.45)\n",
    "\n",
    "trees = [f\"Tree#{i}\" for i in range(N_TREES)]\n",
    "for t in trees:\n",
    "    p = simulator.get_object_position(t)\n",
    "    plt.scatter(p[0], p[1], s=50, c='green')\n",
    "    \n",
    "p = simulator.get_object_position('indoorPlant')\n",
    "plt.scatter(p[0], p[1], s=300, c='red')\n",
    "\n",
    "for path in paths:\n",
    "    plt.plot(path[:, 0], path[:, 1])"
   ]
  },
  {
   "cell_type": "code",
   "execution_count": 26,
   "metadata": {},
   "outputs": [
    {
     "data": {
      "text/plain": [
       "['__class__',\n",
       " '__delattr__',\n",
       " '__dict__',\n",
       " '__dir__',\n",
       " '__doc__',\n",
       " '__eq__',\n",
       " '__format__',\n",
       " '__ge__',\n",
       " '__getattribute__',\n",
       " '__gt__',\n",
       " '__hash__',\n",
       " '__init__',\n",
       " '__init_subclass__',\n",
       " '__le__',\n",
       " '__lt__',\n",
       " '__module__',\n",
       " '__ne__',\n",
       " '__new__',\n",
       " '__reduce__',\n",
       " '__reduce_ex__',\n",
       " '__repr__',\n",
       " '__setattr__',\n",
       " '__sizeof__',\n",
       " '__str__',\n",
       " '__subclasshook__',\n",
       " '__weakref__',\n",
       " '_condition',\n",
       " '_vrep_epuck_suffix',\n",
       " 'add_log',\n",
       " 'add_sphere',\n",
       " 'attach_routine',\n",
       " 'check_routines',\n",
       " 'close',\n",
       " 'detach_all_routines',\n",
       " 'detach_routine',\n",
       " 'eatable_objects',\n",
       " 'emit',\n",
       " 'epuck_from_object_name',\n",
       " 'get_epuck',\n",
       " 'get_epuck_list',\n",
       " 'get_log',\n",
       " 'get_object_position',\n",
       " 'io',\n",
       " 'logger',\n",
       " 'n_robots',\n",
       " 'remove_object',\n",
       " 'robots',\n",
       " 'routine_manager',\n",
       " 'seconds_to_run',\n",
       " 'set_object_position',\n",
       " 'start_all_routines',\n",
       " 'start_routine',\n",
       " 'start_sphere_apparition',\n",
       " 'stop_all_routines',\n",
       " 'stop_routine',\n",
       " 'stop_sphere_apparition',\n",
       " 'subscribe',\n",
       " 'subscribers',\n",
       " 'suffix_to_epuck',\n",
       " 'unsubscribe',\n",
       " 'vrep_mode',\n",
       " 'wait']"
      ]
     },
     "execution_count": 26,
     "metadata": {},
     "output_type": "execute_result"
    }
   ],
   "source": [
    "dir(simulator)"
   ]
  },
  {
   "cell_type": "code",
   "execution_count": 32,
   "metadata": {},
   "outputs": [
    {
     "data": {
      "text/plain": [
       "['__class__',\n",
       " '__delattr__',\n",
       " '__dict__',\n",
       " '__dir__',\n",
       " '__doc__',\n",
       " '__eq__',\n",
       " '__format__',\n",
       " '__ge__',\n",
       " '__getattribute__',\n",
       " '__gt__',\n",
       " '__hash__',\n",
       " '__init__',\n",
       " '__init_subclass__',\n",
       " '__le__',\n",
       " '__lt__',\n",
       " '__module__',\n",
       " '__ne__',\n",
       " '__new__',\n",
       " '__reduce__',\n",
       " '__reduce_ex__',\n",
       " '__repr__',\n",
       " '__setattr__',\n",
       " '__sizeof__',\n",
       " '__str__',\n",
       " '__subclasshook__',\n",
       " '__weakref__',\n",
       " '_all_prox_handles',\n",
       " '_attach',\n",
       " '_behaviors',\n",
       " '_body',\n",
       " '_camera',\n",
       " '_check',\n",
       " '_conditions',\n",
       " '_detach',\n",
       " '_detach_all',\n",
       " '_fwd_rot_2_lr',\n",
       " '_fwd_spd',\n",
       " '_has_eaten',\n",
       " '_left_joint',\n",
       " '_left_spd',\n",
       " '_light_sensor',\n",
       " '_lr_2_fwd_rot',\n",
       " '_prox_aliases',\n",
       " '_prox_handles',\n",
       " '_registered_objects',\n",
       " '_right_joint',\n",
       " '_right_spd',\n",
       " '_rot_spd',\n",
       " '_rot_speed',\n",
       " '_routines',\n",
       " '_sensations',\n",
       " '_start',\n",
       " '_start_all',\n",
       " '_stop',\n",
       " '_stop_all',\n",
       " '_wrapped_handle_notification',\n",
       " 'add_log',\n",
       " 'attach_behavior',\n",
       " 'attach_routine',\n",
       " 'attach_sensation',\n",
       " 'base_lenght',\n",
       " 'behavior_mixer',\n",
       " 'camera_image',\n",
       " 'camera_resolution',\n",
       " 'catch_sphere_times',\n",
       " 'check_behaviors',\n",
       " 'check_routines',\n",
       " 'clear_all_logs',\n",
       " 'close',\n",
       " 'condition',\n",
       " 'detach_all_behaviors',\n",
       " 'detach_all_routines',\n",
       " 'detach_behavior',\n",
       " 'detach_routine',\n",
       " 'detect_object',\n",
       " 'dir_prox',\n",
       " 'display_ray',\n",
       " 'floor_sensor',\n",
       " 'found',\n",
       " 'freeze',\n",
       " 'freq',\n",
       " 'fwd_spd',\n",
       " 'get_log',\n",
       " 'handle_notification',\n",
       " 'has_eaten',\n",
       " 'hide_ray',\n",
       " 'io',\n",
       " 'is_min_distance',\n",
       " 'left_spd',\n",
       " 'left_wheel',\n",
       " 'light_sensor_image',\n",
       " 'light_sensor_resolution',\n",
       " 'logger',\n",
       " 'max_speed',\n",
       " 'min_distance',\n",
       " 'min_distance_to_object',\n",
       " 'min_index',\n",
       " 'move',\n",
       " 'no_detection_value',\n",
       " 'notifications',\n",
       " 'poll_notification',\n",
       " 'position',\n",
       " 'prox_activations',\n",
       " 'proximeters',\n",
       " 'register_all_scene_objects',\n",
       " 'register_object',\n",
       " 'right_spd',\n",
       " 'right_wheel',\n",
       " 'robot_id',\n",
       " 'rot_spd',\n",
       " 'sensed_epuck_attributes',\n",
       " 'simulator',\n",
       " 'start_all_behaviors',\n",
       " 'start_all_routines',\n",
       " 'start_behavior',\n",
       " 'start_routine',\n",
       " 'stop',\n",
       " 'stop_all_behaviors',\n",
       " 'stop_all_routines',\n",
       " 'stop_behavior',\n",
       " 'stop_routine',\n",
       " 'suffix',\n",
       " 'to_find',\n",
       " 'unfreeze',\n",
       " 'used_proximeters',\n",
       " 'wait',\n",
       " 'wheel_diameter']"
      ]
     },
     "execution_count": 32,
     "metadata": {},
     "output_type": "execute_result"
    }
   ],
   "source": [
    "dir(epuck1)"
   ]
  },
  {
   "cell_type": "code",
   "execution_count": 34,
   "metadata": {},
   "outputs": [],
   "source": [
    "?? epuck1.move"
   ]
  },
  {
   "cell_type": "code",
   "execution_count": 38,
   "metadata": {},
   "outputs": [],
   "source": [
    "epuck1.move(20)"
   ]
  },
  {
   "cell_type": "code",
   "execution_count": null,
   "metadata": {},
   "outputs": [],
   "source": [
    "paths[0].shape"
   ]
  },
  {
   "cell_type": "code",
   "execution_count": null,
   "metadata": {},
   "outputs": [],
   "source": [
    "for e in simulator.robots:\n",
    "    print(e.found)"
   ]
  },
  {
   "cell_type": "code",
   "execution_count": null,
   "metadata": {},
   "outputs": [],
   "source": []
  },
  {
   "cell_type": "code",
   "execution_count": null,
   "metadata": {},
   "outputs": [],
   "source": [
    "objs"
   ]
  },
  {
   "cell_type": "code",
   "execution_count": null,
   "metadata": {},
   "outputs": [],
   "source": []
  },
  {
   "cell_type": "code",
   "execution_count": null,
   "metadata": {},
   "outputs": [],
   "source": []
  },
  {
   "cell_type": "code",
   "execution_count": null,
   "metadata": {},
   "outputs": [],
   "source": [
    "epuck1.position()"
   ]
  }
 ],
 "metadata": {
  "kernelspec": {
   "display_name": "Python 3",
   "language": "python",
   "name": "python3"
  },
  "language_info": {
   "codemirror_mode": {
    "name": "ipython",
    "version": 3
   },
   "file_extension": ".py",
   "mimetype": "text/x-python",
   "name": "python",
   "nbconvert_exporter": "python",
   "pygments_lexer": "ipython3",
   "version": "3.7.3"
  }
 },
 "nbformat": 4,
 "nbformat_minor": 4
}
