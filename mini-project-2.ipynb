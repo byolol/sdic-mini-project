{
 "cells": [
  {
   "cell_type": "markdown",
   "metadata": {},
   "source": [
    "### First version\n",
    "\n",
    "    - 3 robots\n",
    "    - all of them just find food\n",
    "    - this behaviour is defined by LOVE towards Trees/Food\n",
    "    - conditional if they are very close to food"
   ]
  },
  {
   "cell_type": "code",
   "execution_count": 1,
   "metadata": {},
   "outputs": [],
   "source": [
    "from simulator_interface import open_session, close_session\n",
    "import numpy as np\n",
    "\n",
    "simulator, epuck1, epuck2, epuck3 = open_session(n_epucks=3)\n",
    "\n",
    "N_TREES = 8\n",
    "trees = [f\"Tree#{i}\" for i in range(N_TREES)]\n",
    "\n",
    "id_map = {0: \"\",\n",
    "          1: \"#0\",\n",
    "          2: \"#1\"}"
   ]
  },
  {
   "cell_type": "code",
   "execution_count": 13,
   "metadata": {},
   "outputs": [],
   "source": [
    "def looking_for_food(robot):\n",
    "    # agg\n",
    "    left, right = robot.prox_activations(tracked_objects=['Food'])\n",
    "    left_wheel = right\n",
    "    right_wheel = left\n",
    "    return left_wheel, right_wheel, 1\n",
    "\n",
    "def dodge_obstacles(robot):\n",
    "    left, right = robot.prox_activations(tracked_objects=[\"20cmHighWall100cm\",\n",
    "                                                          \"20cmHighPillar10cm\",\n",
    "                                                          \"Tree\", \"ePuck\"])\n",
    "    obstacle_dists = np.array([left, right])\n",
    "    # Sequence to avoid epucks getting stuck against an object\n",
    "    if all(obstacle_dists > 0.93):\n",
    "        robot.left_wheel = -1\n",
    "        robot.right_wheel = -1\n",
    "        robot.wait(1)\n",
    "        robot.left_wheel = 0\n",
    "        robot.wait(.2)\n",
    "        robot.left_wheel = 1\n",
    "        robot.right_wheel = 1\n",
    "        robot.wait(2)\n",
    "        robot.left_wheel = 0\n",
    "        robot.right_wheel = 0\n",
    "\n",
    "    left_wheel = left\n",
    "    right_wheel = right\n",
    "    return left_wheel, right_wheel, .5\n",
    "\n",
    "def dodge_obstacles2(robot):\n",
    "    left, right = robot.prox_activations(tracked_objects=[\"20cmHighWall100cm\",\n",
    "                                                          \"20cmHighPillar10cm\",\n",
    "                                                          \"Tree\"])\n",
    "    obstacle_dists = np.array([left, right])\n",
    "    # Sequence to avoid epucks getting stuck against an object\n",
    "    if all(obstacle_dists > 0.93):\n",
    "        robot.left_wheel = -1\n",
    "        robot.right_wheel = -1\n",
    "        robot.wait(1)\n",
    "        robot.left_wheel = 0\n",
    "        robot.wait(.2)\n",
    "        robot.left_wheel = 1\n",
    "        robot.right_wheel = 1\n",
    "        robot.wait(2)\n",
    "        robot.left_wheel = 0\n",
    "        robot.right_wheel = 0\n",
    "\n",
    "    left_wheel = left\n",
    "    right_wheel = right\n",
    "    return left_wheel, right_wheel, .5\n",
    "\n",
    "def follow_finder(robot):\n",
    "    # agg\n",
    "    left, right = robot.prox_activations(tracked_objects=[\"ePuck\" + id_map[robot.finder_robot_id]])\n",
    "    left_wheel = right\n",
    "    right_wheel = left\n",
    "    return left_wheel, right_wheel, 1\n",
    "\n",
    "def smell_trees(robot):\n",
    "    left, right = robot.prox_activations(tracked_objects= trees)\n",
    "    \n",
    "    left_wheel = 1 - right\n",
    "    right_wheel = 1 - left   \n",
    "    return left_wheel, right_wheel, 0.5\n",
    "\n",
    "def log_position(robot):\n",
    "    robot.add_log(\"position\", robot.position())\n",
    "\n",
    "def check_if_tree_is_food(robot):\n",
    "    left, right = robot.prox_activations(tracked_objects=['Food'])\n",
    "    dists = np.array([left, right])\n",
    "    _, objs = robot.proximeters(mode=\"obj\", tracked_objects=['Food'])\n",
    "    \n",
    "    if all(dists > 0.9) and any(['Food' in o for o in objs]):\n",
    "        #simulator.remove_object(objs[0])\n",
    "        print('Food Found')\n",
    "        robot.found = True\n",
    "        \n",
    "        for e in simulator.robots:\n",
    "            e.stop_all_behaviors()\n",
    "            e.stop_all_routines()\n",
    "            \n",
    "            e.detach_all_behaviors()\n",
    "            e.detach_all_routines()\n",
    "            e.finder_robot_id = robot.id\n",
    "        # Success dance\n",
    "        robot.left_wheel = -1\n",
    "        robot.right_wheel = -1\n",
    "        robot.wait(.2)\n",
    "        robot.left_wheel = 0\n",
    "        robot.wait(1)\n",
    "        robot.right_wheel = 0\n",
    "            \n",
    "        ## Phase 2 behaviour (after finding food)\n",
    "        \n",
    "        for e in simulator.robots:\n",
    "            e.attach_behavior(dodge_obstacles2, freq=10)\n",
    "            \n",
    "            if not e.found:\n",
    "                e.attach_behavior(follow_finder, freq=10)\n",
    "                \n",
    "            e.start_all_behaviors()\n",
    "            \n",
    "            e.attach_routine(log_position, freq=5)\n",
    "            e.start_all_routines()"
   ]
  },
  {
   "cell_type": "code",
   "execution_count": 3,
   "metadata": {},
   "outputs": [],
   "source": [
    "\n",
    "for i, e in enumerate(simulator.robots):\n",
    "    e.found = False\n",
    "    e.id = i"
   ]
  },
  {
   "cell_type": "code",
   "execution_count": 4,
   "metadata": {},
   "outputs": [
    {
     "name": "stdout",
     "output_type": "stream",
     "text": [
      "Behavior looking_for_food started\n",
      "Behavior dodge_obstacles started\n",
      "Routine check_if_tree_is_food started\n",
      "Routine log_position started\n",
      "Behavior looking_for_food started\n",
      "Behavior dodge_obstacles started\n",
      "Routine check_if_tree_is_food started\n",
      "Routine log_position started\n",
      "Behavior looking_for_food started\n",
      "Behavior dodge_obstacles started\n",
      "Routine check_if_tree_is_food started\n",
      "Routine log_position started\n"
     ]
    }
   ],
   "source": [
    "for e in simulator.robots:\n",
    "    e.detach_all_behaviors()\n",
    "    e.attach_behavior(looking_for_food, freq=10)\n",
    "    e.attach_behavior(dodge_obstacles, freq=10)\n",
    "    #e.attach_behavior(smell_trees, freq=10)\n",
    "    #e.attach_behavior(fear, freq=10)\n",
    "    e.start_all_behaviors()\n",
    "    \n",
    "    e.attach_routine(check_if_tree_is_food, freq=5)\n",
    "    e.attach_routine(log_position, freq=5)\n",
    "    e.start_all_routines()"
   ]
  },
  {
   "cell_type": "code",
   "execution_count": 9,
   "metadata": {},
   "outputs": [
    {
     "name": "stdout",
     "output_type": "stream",
     "text": [
      "1\n",
      "1\n",
      "1\n"
     ]
    }
   ],
   "source": [
    "for e in simulator.robots:\n",
    "    e.detach_all_behaviors()\n",
    "    print(e.finder_robot_id)"
   ]
  },
  {
   "cell_type": "code",
   "execution_count": null,
   "metadata": {},
   "outputs": [],
   "source": [
    "from time import sleep"
   ]
  },
  {
   "cell_type": "code",
   "execution_count": null,
   "metadata": {},
   "outputs": [],
   "source": [
    "sleep(0.1)"
   ]
  },
  {
   "cell_type": "code",
   "execution_count": 7,
   "metadata": {},
   "outputs": [
    {
     "name": "stdout",
     "output_type": "stream",
     "text": [
      "False\n",
      "True\n",
      "True\n"
     ]
    }
   ],
   "source": [
    "for e in simulator.robots:\n",
    "    print(e.found)"
   ]
  },
  {
   "cell_type": "code",
   "execution_count": 11,
   "metadata": {},
   "outputs": [
    {
     "data": {
      "text/plain": [
       "2"
      ]
     },
     "execution_count": 11,
     "metadata": {},
     "output_type": "execute_result"
    }
   ],
   "source": [
    "e.id"
   ]
  },
  {
   "cell_type": "code",
   "execution_count": 10,
   "metadata": {},
   "outputs": [
    {
     "data": {
      "text/plain": [
       "['__class__',\n",
       " '__delattr__',\n",
       " '__dict__',\n",
       " '__dir__',\n",
       " '__doc__',\n",
       " '__eq__',\n",
       " '__format__',\n",
       " '__ge__',\n",
       " '__getattribute__',\n",
       " '__gt__',\n",
       " '__hash__',\n",
       " '__init__',\n",
       " '__init_subclass__',\n",
       " '__le__',\n",
       " '__lt__',\n",
       " '__module__',\n",
       " '__ne__',\n",
       " '__new__',\n",
       " '__reduce__',\n",
       " '__reduce_ex__',\n",
       " '__repr__',\n",
       " '__setattr__',\n",
       " '__sizeof__',\n",
       " '__str__',\n",
       " '__subclasshook__',\n",
       " '__weakref__',\n",
       " '_all_prox_handles',\n",
       " '_attach',\n",
       " '_behaviors',\n",
       " '_body',\n",
       " '_camera',\n",
       " '_check',\n",
       " '_conditions',\n",
       " '_detach',\n",
       " '_detach_all',\n",
       " '_fwd_rot_2_lr',\n",
       " '_fwd_spd',\n",
       " '_has_eaten',\n",
       " '_left_joint',\n",
       " '_left_spd',\n",
       " '_light_sensor',\n",
       " '_lr_2_fwd_rot',\n",
       " '_prox_aliases',\n",
       " '_prox_handles',\n",
       " '_registered_objects',\n",
       " '_right_joint',\n",
       " '_right_spd',\n",
       " '_rot_spd',\n",
       " '_rot_speed',\n",
       " '_routines',\n",
       " '_sensations',\n",
       " '_start',\n",
       " '_start_all',\n",
       " '_stop',\n",
       " '_stop_all',\n",
       " '_wrapped_handle_notification',\n",
       " 'add_log',\n",
       " 'attach_behavior',\n",
       " 'attach_routine',\n",
       " 'attach_sensation',\n",
       " 'base_lenght',\n",
       " 'behavior_mixer',\n",
       " 'camera_image',\n",
       " 'camera_resolution',\n",
       " 'catch_sphere_times',\n",
       " 'check_behaviors',\n",
       " 'check_routines',\n",
       " 'clear_all_logs',\n",
       " 'close',\n",
       " 'condition',\n",
       " 'detach_all_behaviors',\n",
       " 'detach_all_routines',\n",
       " 'detach_behavior',\n",
       " 'detach_routine',\n",
       " 'detect_object',\n",
       " 'dir_prox',\n",
       " 'display_ray',\n",
       " 'floor_sensor',\n",
       " 'found',\n",
       " 'freeze',\n",
       " 'freq',\n",
       " 'fwd_spd',\n",
       " 'get_log',\n",
       " 'handle_notification',\n",
       " 'has_eaten',\n",
       " 'hide_ray',\n",
       " 'id',\n",
       " 'io',\n",
       " 'is_min_distance',\n",
       " 'left_spd',\n",
       " 'left_wheel',\n",
       " 'light_sensor_image',\n",
       " 'light_sensor_resolution',\n",
       " 'logger',\n",
       " 'max_speed',\n",
       " 'min_distance',\n",
       " 'min_distance_to_object',\n",
       " 'min_index',\n",
       " 'move',\n",
       " 'no_detection_value',\n",
       " 'notifications',\n",
       " 'poll_notification',\n",
       " 'position',\n",
       " 'prox_activations',\n",
       " 'proximeters',\n",
       " 'register_all_scene_objects',\n",
       " 'register_object',\n",
       " 'right_spd',\n",
       " 'right_wheel',\n",
       " 'robot_id',\n",
       " 'rot_spd',\n",
       " 'sensed_epuck_attributes',\n",
       " 'simulator',\n",
       " 'start_all_behaviors',\n",
       " 'start_all_routines',\n",
       " 'start_behavior',\n",
       " 'start_routine',\n",
       " 'stop',\n",
       " 'stop_all_behaviors',\n",
       " 'stop_all_routines',\n",
       " 'stop_behavior',\n",
       " 'stop_routine',\n",
       " 'suffix',\n",
       " 'to_find',\n",
       " 'unfreeze',\n",
       " 'used_proximeters',\n",
       " 'wait',\n",
       " 'wheel_diameter']"
      ]
     },
     "execution_count": 10,
     "metadata": {},
     "output_type": "execute_result"
    }
   ],
   "source": [
    "dir(e)"
   ]
  },
  {
   "cell_type": "code",
   "execution_count": null,
   "metadata": {},
   "outputs": [],
   "source": []
  },
  {
   "cell_type": "code",
   "execution_count": null,
   "metadata": {},
   "outputs": [],
   "source": [
    "for e in simulator.robots:\n",
    "    left, right = e.prox_activations(tracked_objects=['indoor'])\n",
    "    dists = np.array([left, right])\n",
    "    _, objs = e.proximeters(mode=\"obj\", tracked_objects=['indoor'])\n",
    "    print(dists)\n",
    "    print(all(dists < 0.5))\n",
    "    print(objs)\n",
    "    print(any(['Food' in o for o in objs]))\n",
    "    if all(dists < 0.5) and any(['Food' in o for o in objs]):\n",
    "        print(e.found)\n",
    "    print('-'*50)"
   ]
  },
  {
   "cell_type": "code",
   "execution_count": null,
   "metadata": {},
   "outputs": [],
   "source": [
    "simulator.robots"
   ]
  },
  {
   "cell_type": "code",
   "execution_count": null,
   "metadata": {},
   "outputs": [],
   "source": [
    "simulator.robots[-1] == epuck3"
   ]
  },
  {
   "cell_type": "code",
   "execution_count": null,
   "metadata": {},
   "outputs": [],
   "source": [
    "robot.to_find"
   ]
  },
  {
   "cell_type": "code",
   "execution_count": null,
   "metadata": {},
   "outputs": [],
   "source": [
    "?? robot.proximeters"
   ]
  },
  {
   "cell_type": "code",
   "execution_count": null,
   "metadata": {},
   "outputs": [],
   "source": [
    "for e in simulator.robots:\n",
    "    print(e)\n",
    "    print(e.to_find)\n",
    "    print(e.found)\n",
    "    print('-'*20)"
   ]
  },
  {
   "cell_type": "code",
   "execution_count": null,
   "metadata": {},
   "outputs": [],
   "source": []
  },
  {
   "cell_type": "code",
   "execution_count": null,
   "metadata": {},
   "outputs": [],
   "source": [
    "_, objs = epuck1.proximeters(mode=\"obj\")\n"
   ]
  },
  {
   "cell_type": "code",
   "execution_count": null,
   "metadata": {},
   "outputs": [],
   "source": [
    "_"
   ]
  },
  {
   "cell_type": "code",
   "execution_count": 5,
   "metadata": {},
   "outputs": [],
   "source": [
    "import matplotlib.pyplot as plt\n",
    "import numpy as np"
   ]
  },
  {
   "cell_type": "code",
   "execution_count": 23,
   "metadata": {},
   "outputs": [
    {
     "data": {
      "image/png": "[encoded data removed]",
      "text/plain": [
       "<Figure size 360x360 with 1 Axes>"
      ]
     },
     "metadata": {
      "needs_background": "light"
     },
     "output_type": "display_data"
    }
   ],
   "source": [
    "paths = [np.array(e.get_log('position')) for e in simulator.robots]\n",
    "\n",
    "plt.figure(figsize=(5, 5))\n",
    "plt.axis('equal')\n",
    "\n",
    "plt.xlim(-2.45, 2.45)\n",
    "plt.ylim(-2.45, 2.45)\n",
    "\n",
    "trees = [f\"Tree#{i}\" for i in range(N_TREES)]\n",
    "for t in trees:\n",
    "    p = simulator.get_object_position(t)\n",
    "    plt.scatter(p[0], p[1], s=50, c='green')\n",
    "    \n",
    "p = simulator.get_object_position('Food')\n",
    "plt.scatter(p[0], p[1], s=300, c='red')\n",
    "\n",
    "for path in paths:\n",
    "    plt.plot(path[:, 0], path[:, 1])"
   ]
  },
  {
   "cell_type": "code",
   "execution_count": 9,
   "metadata": {},
   "outputs": [
    {
     "data": {
      "text/plain": [
       "array([0.61216162, 0.58190145])"
      ]
     },
     "execution_count": 9,
     "metadata": {},
     "output_type": "execute_result"
    }
   ],
   "source": [
    "e.prox_activations()"
   ]
  },
  {
   "cell_type": "code",
   "execution_count": 10,
   "metadata": {},
   "outputs": [
    {
     "data": {
      "text/plain": [
       "['__class__',\n",
       " '__delattr__',\n",
       " '__dict__',\n",
       " '__dir__',\n",
       " '__doc__',\n",
       " '__eq__',\n",
       " '__format__',\n",
       " '__ge__',\n",
       " '__getattribute__',\n",
       " '__gt__',\n",
       " '__hash__',\n",
       " '__init__',\n",
       " '__init_subclass__',\n",
       " '__le__',\n",
       " '__lt__',\n",
       " '__module__',\n",
       " '__ne__',\n",
       " '__new__',\n",
       " '__reduce__',\n",
       " '__reduce_ex__',\n",
       " '__repr__',\n",
       " '__setattr__',\n",
       " '__sizeof__',\n",
       " '__str__',\n",
       " '__subclasshook__',\n",
       " '__weakref__',\n",
       " '_all_prox_handles',\n",
       " '_attach',\n",
       " '_behaviors',\n",
       " '_body',\n",
       " '_camera',\n",
       " '_check',\n",
       " '_conditions',\n",
       " '_detach',\n",
       " '_detach_all',\n",
       " '_fwd_rot_2_lr',\n",
       " '_fwd_spd',\n",
       " '_has_eaten',\n",
       " '_left_joint',\n",
       " '_left_spd',\n",
       " '_light_sensor',\n",
       " '_lr_2_fwd_rot',\n",
       " '_prox_aliases',\n",
       " '_prox_handles',\n",
       " '_registered_objects',\n",
       " '_right_joint',\n",
       " '_right_spd',\n",
       " '_rot_spd',\n",
       " '_rot_speed',\n",
       " '_routines',\n",
       " '_sensations',\n",
       " '_start',\n",
       " '_start_all',\n",
       " '_stop',\n",
       " '_stop_all',\n",
       " '_wrapped_handle_notification',\n",
       " 'add_log',\n",
       " 'attach_behavior',\n",
       " 'attach_routine',\n",
       " 'attach_sensation',\n",
       " 'base_lenght',\n",
       " 'behavior_mixer',\n",
       " 'camera_image',\n",
       " 'camera_resolution',\n",
       " 'catch_sphere_times',\n",
       " 'check_behaviors',\n",
       " 'check_routines',\n",
       " 'clear_all_logs',\n",
       " 'close',\n",
       " 'condition',\n",
       " 'detach_all_behaviors',\n",
       " 'detach_all_routines',\n",
       " 'detach_behavior',\n",
       " 'detach_routine',\n",
       " 'detect_object',\n",
       " 'dir_prox',\n",
       " 'display_ray',\n",
       " 'finder_robot_id',\n",
       " 'floor_sensor',\n",
       " 'found',\n",
       " 'freeze',\n",
       " 'freq',\n",
       " 'fwd_spd',\n",
       " 'get_log',\n",
       " 'handle_notification',\n",
       " 'has_eaten',\n",
       " 'hide_ray',\n",
       " 'id',\n",
       " 'io',\n",
       " 'is_min_distance',\n",
       " 'left_spd',\n",
       " 'left_wheel',\n",
       " 'light_sensor_image',\n",
       " 'light_sensor_resolution',\n",
       " 'logger',\n",
       " 'max_speed',\n",
       " 'min_distance',\n",
       " 'min_distance_to_object',\n",
       " 'min_index',\n",
       " 'move',\n",
       " 'no_detection_value',\n",
       " 'notifications',\n",
       " 'poll_notification',\n",
       " 'position',\n",
       " 'prox_activations',\n",
       " 'proximeters',\n",
       " 'register_all_scene_objects',\n",
       " 'register_object',\n",
       " 'right_spd',\n",
       " 'right_wheel',\n",
       " 'robot_id',\n",
       " 'rot_spd',\n",
       " 'sensed_epuck_attributes',\n",
       " 'simulator',\n",
       " 'start_all_behaviors',\n",
       " 'start_all_routines',\n",
       " 'start_behavior',\n",
       " 'start_routine',\n",
       " 'stop',\n",
       " 'stop_all_behaviors',\n",
       " 'stop_all_routines',\n",
       " 'stop_behavior',\n",
       " 'stop_routine',\n",
       " 'suffix',\n",
       " 'to_find',\n",
       " 'unfreeze',\n",
       " 'used_proximeters',\n",
       " 'wait',\n",
       " 'wheel_diameter']"
      ]
     },
     "execution_count": 10,
     "metadata": {},
     "output_type": "execute_result"
    }
   ],
   "source": [
    "dir(e)"
   ]
  },
  {
   "cell_type": "code",
   "execution_count": 11,
   "metadata": {},
   "outputs": [],
   "source": [
    "?? e.move"
   ]
  },
  {
   "cell_type": "code",
   "execution_count": 12,
   "metadata": {},
   "outputs": [
    {
     "data": {
      "text/plain": [
       "['__class__',\n",
       " '__delattr__',\n",
       " '__dict__',\n",
       " '__dir__',\n",
       " '__doc__',\n",
       " '__eq__',\n",
       " '__format__',\n",
       " '__ge__',\n",
       " '__getattribute__',\n",
       " '__gt__',\n",
       " '__hash__',\n",
       " '__init__',\n",
       " '__init_subclass__',\n",
       " '__le__',\n",
       " '__lt__',\n",
       " '__module__',\n",
       " '__ne__',\n",
       " '__new__',\n",
       " '__reduce__',\n",
       " '__reduce_ex__',\n",
       " '__repr__',\n",
       " '__setattr__',\n",
       " '__sizeof__',\n",
       " '__str__',\n",
       " '__subclasshook__',\n",
       " '__weakref__',\n",
       " '_all_prox_handles',\n",
       " '_attach',\n",
       " '_behaviors',\n",
       " '_body',\n",
       " '_camera',\n",
       " '_check',\n",
       " '_conditions',\n",
       " '_detach',\n",
       " '_detach_all',\n",
       " '_fwd_rot_2_lr',\n",
       " '_fwd_spd',\n",
       " '_has_eaten',\n",
       " '_left_joint',\n",
       " '_left_spd',\n",
       " '_light_sensor',\n",
       " '_lr_2_fwd_rot',\n",
       " '_prox_aliases',\n",
       " '_prox_handles',\n",
       " '_registered_objects',\n",
       " '_right_joint',\n",
       " '_right_spd',\n",
       " '_rot_spd',\n",
       " '_rot_speed',\n",
       " '_routines',\n",
       " '_sensations',\n",
       " '_start',\n",
       " '_start_all',\n",
       " '_stop',\n",
       " '_stop_all',\n",
       " '_wrapped_handle_notification',\n",
       " 'add_log',\n",
       " 'attach_behavior',\n",
       " 'attach_routine',\n",
       " 'attach_sensation',\n",
       " 'base_lenght',\n",
       " 'behavior_mixer',\n",
       " 'camera_image',\n",
       " 'camera_resolution',\n",
       " 'catch_sphere_times',\n",
       " 'check_behaviors',\n",
       " 'check_routines',\n",
       " 'clear_all_logs',\n",
       " 'close',\n",
       " 'condition',\n",
       " 'detach_all_behaviors',\n",
       " 'detach_all_routines',\n",
       " 'detach_behavior',\n",
       " 'detach_routine',\n",
       " 'detect_object',\n",
       " 'dir_prox',\n",
       " 'display_ray',\n",
       " 'finder_robot_id',\n",
       " 'floor_sensor',\n",
       " 'found',\n",
       " 'freeze',\n",
       " 'freq',\n",
       " 'fwd_spd',\n",
       " 'get_log',\n",
       " 'handle_notification',\n",
       " 'has_eaten',\n",
       " 'hide_ray',\n",
       " 'id',\n",
       " 'io',\n",
       " 'is_min_distance',\n",
       " 'left_spd',\n",
       " 'left_wheel',\n",
       " 'light_sensor_image',\n",
       " 'light_sensor_resolution',\n",
       " 'logger',\n",
       " 'max_speed',\n",
       " 'min_distance',\n",
       " 'min_distance_to_object',\n",
       " 'min_index',\n",
       " 'move',\n",
       " 'no_detection_value',\n",
       " 'notifications',\n",
       " 'poll_notification',\n",
       " 'position',\n",
       " 'prox_activations',\n",
       " 'proximeters',\n",
       " 'register_all_scene_objects',\n",
       " 'register_object',\n",
       " 'right_spd',\n",
       " 'right_wheel',\n",
       " 'robot_id',\n",
       " 'rot_spd',\n",
       " 'sensed_epuck_attributes',\n",
       " 'simulator',\n",
       " 'start_all_behaviors',\n",
       " 'start_all_routines',\n",
       " 'start_behavior',\n",
       " 'start_routine',\n",
       " 'stop',\n",
       " 'stop_all_behaviors',\n",
       " 'stop_all_routines',\n",
       " 'stop_behavior',\n",
       " 'stop_routine',\n",
       " 'suffix',\n",
       " 'to_find',\n",
       " 'unfreeze',\n",
       " 'used_proximeters',\n",
       " 'wait',\n",
       " 'wheel_diameter']"
      ]
     },
     "execution_count": 12,
     "metadata": {},
     "output_type": "execute_result"
    }
   ],
   "source": [
    "dir(e)"
   ]
  },
  {
   "cell_type": "code",
   "execution_count": 14,
   "metadata": {},
   "outputs": [],
   "source": [
    "?? e.to_find"
   ]
  },
  {
   "cell_type": "code",
   "execution_count": 17,
   "metadata": {},
   "outputs": [],
   "source": [
    "?? e.register_all_scene_objects"
   ]
  },
  {
   "cell_type": "code",
   "execution_count": 19,
   "metadata": {},
   "outputs": [
    {
     "data": {
      "text/plain": [
       "[1.493253469467163, -1.1466771364212036, 0.019188083708286285]"
      ]
     },
     "execution_count": 19,
     "metadata": {},
     "output_type": "execute_result"
    }
   ],
   "source": [
    "e.position()"
   ]
  },
  {
   "cell_type": "code",
   "execution_count": 22,
   "metadata": {},
   "outputs": [],
   "source": [
    "e.move(0, rotate=np.pi)"
   ]
  },
  {
   "cell_type": "code",
   "execution_count": null,
   "metadata": {},
   "outputs": [],
   "source": []
  }
 ],
 "metadata": {
  "kernelspec": {
   "display_name": "Python 3",
   "language": "python",
   "name": "python3"
  },
  "language_info": {
   "codemirror_mode": {
    "name": "ipython",
    "version": 3
   },
   "file_extension": ".py",
   "mimetype": "text/x-python",
   "name": "python",
   "nbconvert_exporter": "python",
   "pygments_lexer": "ipython3",
   "version": "3.7.3"
  }
 },
 "nbformat": 4,
 "nbformat_minor": 4
}
